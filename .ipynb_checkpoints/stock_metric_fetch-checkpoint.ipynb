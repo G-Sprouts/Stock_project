{
 "cells": [
  {
   "cell_type": "code",
   "execution_count": null,
   "metadata": {},
   "outputs": [],
   "source": [
    "# Using web scraping to gather, organize and compile stock data via Yahoo.finance\n"
   ]
  },
  {
   "cell_type": "code",
   "execution_count": 1,
   "metadata": {},
   "outputs": [],
   "source": [
    "# Import libraries\n",
    "\n",
    "from bs4 import BeautifulSoup as bs\n",
    "import requests as r\n",
    "import csv\n",
    "from datetime import date\n",
    "import pandas as pd\n"
   ]
  },
  {
   "cell_type": "code",
   "execution_count": 2,
   "metadata": {},
   "outputs": [],
   "source": [
    "# Define variables and stock symbol list\n",
    "\n",
    "date_d = {}\n",
    "metrics_list = []\n",
    "today = date.today()\n",
    "form = '%m-%d-%Y'\n",
    "stocks = ['snow', 'ccxi', 'gwph', 'imvt']\n"
   ]
  },
  {
   "cell_type": "code",
   "execution_count": null,
   "metadata": {},
   "outputs": [],
   "source": [
    "# Create function, use BeautifulSoup & requests to ask and pull specified metrics\n",
    "\n",
    "\n",
    "def metric_fetch(sym):\n",
    "    page = r.get('https://finanace.yahoo.com/quote/' + sym + '/key-statistics?p=' + sym)\n",
    "    soup = bs(page.content, 'lxml')\n",
    "    page2 = r.get('https://finance.yahoo.com/quote/' + sym + '?p=' + sym)\n",
    "    soup2 = bs(page2.content, 'lxml')\n",
    "    \n",
    "# Define local variables to represent 'text' responses\n",
    "\n",
    "    met1 = soup.find_all('span', {'class': 'Trsdu(0.3s) Fw(b) Fz(36px) Mb(-4px) D(ib)'})[0].text\n",
    "    met2 = soup.find_all('td', {'class': 'Ta(c) Pstart(10px) Miw(60px) Miw(80px)--pnclg Bgc($lv1BgColor) fi-row:h_Bgc($hoverBgColor)'})[0].text\n",
    "    met3 = soup.find_all('td', {'class': 'Ta(c) Pstart(10px) Miw(60px) Miw(80px)--pnclg Bgc($lv1BgColor) fi-row:h_Bgc($hoverBgColor)'})[6].text\n",
    "    met4 = soup.find_all('td', {'class': 'Fw(500) Ta(end) Pstart(10px) Miw(60px)'})[5].text\n",
    "    met5 = soup.find_all('td', {'class': 'Fw(500) Ta(end) Pstart(10px) Miw(60px)'})[6].text\n",
    "    met6 = soup2.find_all('td', {'class': 'Ta(end) Fw(600) Lh(14px)'})[5].text\n",
    "    met7 = soup2.find_all('td', {'class': 'Ta(end) Fw(600) Lh(14px)'})[6].text\n",
    "    met8 = soup.find_all('td', {'class': 'Fw(500) Ta(end) Pstart(10px) Miw(60px)'})[7].text\n",
    "    met9 = soup.find_all('td', {'class': 'Fw(500) Ta(end) Pstart(10px) Miw(60px)'})[8].text\n",
    "    met10 = soup.find_all('td', {'class': 'Fw(500) Ta(end) Pstart(10px) Miw(60px)'})[9].text\n",
    "    met11 = soup.find_all('td', {'class': 'Fw(500) Ta(end) Pstart(10px) Miw(60px)'})[10].text\n",
    "    met12 = soup.find_all('td', {'class': 'Fw(500) Ta(end) Pstart(10px) Miw(60px)'})[11].text\n",
    "    met13 = soup.find_all('td', {'class': 'Fw(500) Ta(end) Pstart(10px) Miw(60px)'})[12].text\n",
    "    \n",
    "# Create 'if/else' statement to verify all conditions are met, and then return a dictionary of metric followed by value\n",
    "\n",
    "    if met1 and met2 and met3 and met4 and met5 and met6 and met7 and met8 and met9 and met10 and met11 and met12 and met13:\n",
    "        return {'sym': sym, 'sp': met1, 'ma_50': met4, 'ma_200': met5, 'range_52w': met6, 'mc': met2, 'p_b': met3, 'vol': met7, 'avg_vol_3m': met8, 'avg_vol_10d': met9, 'out_sh': met10, 'float': met11, 'insiders': met12, 'institutions': met13}\n"
   ]
  },
  {
   "cell_type": "code",
   "execution_count": null,
   "metadata": {
    "scrolled": true
   },
   "outputs": [],
   "source": [
    "# Create a 'for' loop to iterate through stock list\n",
    "# create variable for 'returned' dictionary of stock metrics \n",
    "# format current day into the 'date_d' dictionary \n",
    "# merge date & metric dictionaries\n",
    "# append final dictionary into a list\n",
    "\n",
    "for sym in stocks:\n",
    "    data_row = metric_fetch(sym)\n",
    "    date_d[' '] = date.strftime(today, form)\n",
    "    final_d = {**date_d, **data_row}\n",
    "    metrics_list.append(final_d)\n",
    "    \n",
    "# Write the list to a .csv file \n",
    "\n",
    "    with open('stock_metrics.csv', 'w') as f:\n",
    "        writer = csv.DictWriter(f, fieldnames=metrics_list[0].keys())\n",
    "        writer.writeheader()\n",
    "        writer.writerows(metrics_list)\n",
    "    f.close()"
   ]
  },
  {
   "cell_type": "code",
   "execution_count": null,
   "metadata": {},
   "outputs": [],
   "source": [
    "# Find location and DataFrame from .csv file\n",
    "# Merge with existing DataFrame to create a sequential DataFrame\n",
    "\n",
    "df1 = pd.read_csv('/Users/garrettwankel/PycharmProjects/New/stock_metrics.csv', index_col=0)\n",
    "df2 = pd.read_csv('/Users/garrettwankel/PycharmProjects/New/final_df.csv', index_col=0)\n",
    "final_df = pd.concat([df2, df1], join='inner')"
   ]
  }
 ],
 "metadata": {
  "kernelspec": {
   "display_name": "Python 3",
   "language": "python",
   "name": "python3"
  },
  "language_info": {
   "codemirror_mode": {
    "name": "ipython",
    "version": 3
   },
   "file_extension": ".py",
   "mimetype": "text/x-python",
   "name": "python",
   "nbconvert_exporter": "python",
   "pygments_lexer": "ipython3",
   "version": "3.7.9"
  }
 },
 "nbformat": 4,
 "nbformat_minor": 4
}
