{
 "cells": [
  {
   "cell_type": "code",
   "execution_count": 579,
   "metadata": {},
   "outputs": [],
   "source": [
    "# Create Machine Learning Model from stock metric data\n",
    "\n",
    "# Import necessary libraries & modules\n",
    "\n",
    "\n",
    "import pandas as pd\n",
    "import csv\n",
    "import math\n",
    "import numpy as np\n",
    "import matplotlib.pyplot as plt \n",
    "import matplotlib.patches as mpatches\n",
    "import seaborn as sb\n",
    "\n",
    "\n",
    "from sklearn.model_selection import cross_val_score\n",
    "from sklearn.model_selection import train_test_split\n",
    "from sklearn.tree import DecisionTreeRegressor\n",
    "from sklearn.ensemble import RandomForestRegressor\n",
    "from sklearn.metrics import mean_absolute_error\n",
    "from sklearn import preprocessing\n",
    "from sklearn.linear_model import LinearRegression\n"
   ]
  },
  {
   "cell_type": "code",
   "execution_count": 580,
   "metadata": {},
   "outputs": [],
   "source": [
    "# Import .csv file \n",
    "# Create DataFrame from .csv file\n",
    "\n",
    "file = pd.read_csv('/Users/garrettwankel/PycharmProjects/New/Final_df.csv')\n",
    "df = pd.DataFrame(file)\n",
    "\n"
   ]
  },
  {
   "cell_type": "code",
   "execution_count": 581,
   "metadata": {},
   "outputs": [
    {
     "data": {
      "text/html": [
       "<div>\n",
       "<style scoped>\n",
       "    .dataframe tbody tr th:only-of-type {\n",
       "        vertical-align: middle;\n",
       "    }\n",
       "\n",
       "    .dataframe tbody tr th {\n",
       "        vertical-align: top;\n",
       "    }\n",
       "\n",
       "    .dataframe thead th {\n",
       "        text-align: right;\n",
       "    }\n",
       "</style>\n",
       "<table border=\"1\" class=\"dataframe\">\n",
       "  <thead>\n",
       "    <tr style=\"text-align: right;\">\n",
       "      <th></th>\n",
       "      <th></th>\n",
       "      <th>Sym</th>\n",
       "      <th>SP</th>\n",
       "      <th>50-Day MA</th>\n",
       "      <th>200-Day MA</th>\n",
       "      <th>52W Range</th>\n",
       "      <th>MC</th>\n",
       "      <th>P/B</th>\n",
       "      <th>Vol</th>\n",
       "      <th>Avg Vol (3m)</th>\n",
       "      <th>Avg Vol (10-day)</th>\n",
       "      <th>Sh Out</th>\n",
       "      <th>Float</th>\n",
       "      <th>Insiders</th>\n",
       "      <th>Institutions</th>\n",
       "    </tr>\n",
       "  </thead>\n",
       "  <tbody>\n",
       "    <tr>\n",
       "      <th>0</th>\n",
       "      <td>08-07-2020</td>\n",
       "      <td>crbp</td>\n",
       "      <td>6.61</td>\n",
       "      <td>7.35</td>\n",
       "      <td>6.36</td>\n",
       "      <td>3.29 - 8.78</td>\n",
       "      <td>560.17M</td>\n",
       "      <td>24.43</td>\n",
       "      <td>1,324,087</td>\n",
       "      <td>1.58M</td>\n",
       "      <td>1.84M</td>\n",
       "      <td>72.49M</td>\n",
       "      <td>71.03M</td>\n",
       "      <td>4.93%</td>\n",
       "      <td>41.18%</td>\n",
       "    </tr>\n",
       "    <tr>\n",
       "      <th>1</th>\n",
       "      <td>08-07-2020</td>\n",
       "      <td>ccxi</td>\n",
       "      <td>55.24</td>\n",
       "      <td>56.30</td>\n",
       "      <td>50.83</td>\n",
       "      <td>6.37 - 65.43</td>\n",
       "      <td>3.75B</td>\n",
       "      <td>62.41</td>\n",
       "      <td>366,281</td>\n",
       "      <td>732.02k</td>\n",
       "      <td>624.86k</td>\n",
       "      <td>67.83M</td>\n",
       "      <td>43.42M</td>\n",
       "      <td>28.93%</td>\n",
       "      <td>67.08%</td>\n",
       "    </tr>\n",
       "    <tr>\n",
       "      <th>2</th>\n",
       "      <td>08-07-2020</td>\n",
       "      <td>gwph</td>\n",
       "      <td>109.37</td>\n",
       "      <td>129.58</td>\n",
       "      <td>113.69</td>\n",
       "      <td>67.98 - 172.12</td>\n",
       "      <td>3.81B</td>\n",
       "      <td>5.87</td>\n",
       "      <td>2,374,243</td>\n",
       "      <td>339.43k</td>\n",
       "      <td>271.39k</td>\n",
       "      <td>31.08M</td>\n",
       "      <td>30.43M</td>\n",
       "      <td>1.12%</td>\n",
       "      <td>83.33%</td>\n",
       "    </tr>\n",
       "    <tr>\n",
       "      <th>3</th>\n",
       "      <td>08-07-2020</td>\n",
       "      <td>imvt</td>\n",
       "      <td>27.16</td>\n",
       "      <td>25.17</td>\n",
       "      <td>19.53</td>\n",
       "      <td>8.34 - 29.96</td>\n",
       "      <td>2.11B</td>\n",
       "      <td>22.46</td>\n",
       "      <td>253,162</td>\n",
       "      <td>427.77k</td>\n",
       "      <td>236.06k</td>\n",
       "      <td>81.81M</td>\n",
       "      <td>25.48M</td>\n",
       "      <td>73.18%</td>\n",
       "      <td>21.10%</td>\n",
       "    </tr>\n",
       "    <tr>\n",
       "      <th>4</th>\n",
       "      <td>08-07-2020</td>\n",
       "      <td>alny</td>\n",
       "      <td>143.53</td>\n",
       "      <td>153.62</td>\n",
       "      <td>131.42</td>\n",
       "      <td>73.32 - 167.33</td>\n",
       "      <td>16.55B</td>\n",
       "      <td>14.08</td>\n",
       "      <td>344,523</td>\n",
       "      <td>769.09k</td>\n",
       "      <td>470.09k</td>\n",
       "      <td>114.82M</td>\n",
       "      <td>113.87M</td>\n",
       "      <td>0.80%</td>\n",
       "      <td>94.74%</td>\n",
       "    </tr>\n",
       "  </tbody>\n",
       "</table>\n",
       "</div>"
      ],
      "text/plain": [
       "                Sym      SP  50-Day MA  200-Day MA       52W Range       MC  \\\n",
       "0  08-07-2020  crbp    6.61       7.35        6.36     3.29 - 8.78  560.17M   \n",
       "1  08-07-2020  ccxi   55.24      56.30       50.83    6.37 - 65.43    3.75B   \n",
       "2  08-07-2020  gwph  109.37     129.58      113.69  67.98 - 172.12    3.81B   \n",
       "3  08-07-2020  imvt   27.16      25.17       19.53    8.34 - 29.96    2.11B   \n",
       "4  08-07-2020  alny  143.53     153.62      131.42  73.32 - 167.33   16.55B   \n",
       "\n",
       "     P/B        Vol Avg Vol (3m) Avg Vol (10-day)   Sh Out    Float Insiders  \\\n",
       "0  24.43  1,324,087        1.58M            1.84M   72.49M   71.03M    4.93%   \n",
       "1  62.41    366,281      732.02k          624.86k   67.83M   43.42M   28.93%   \n",
       "2   5.87  2,374,243      339.43k          271.39k   31.08M   30.43M    1.12%   \n",
       "3  22.46    253,162      427.77k          236.06k   81.81M   25.48M   73.18%   \n",
       "4  14.08    344,523      769.09k          470.09k  114.82M  113.87M    0.80%   \n",
       "\n",
       "  Institutions  \n",
       "0       41.18%  \n",
       "1       67.08%  \n",
       "2       83.33%  \n",
       "3       21.10%  \n",
       "4       94.74%  "
      ]
     },
     "execution_count": 581,
     "metadata": {},
     "output_type": "execute_result"
    }
   ],
   "source": [
    "# Examine DataFrame\n",
    "\n",
    "df.head()\n",
    "\n"
   ]
  },
  {
   "cell_type": "code",
   "execution_count": 582,
   "metadata": {},
   "outputs": [],
   "source": [
    "# Rename column(s)\n",
    "\n",
    "df.rename(columns={' ': 'Date'}, inplace=True)\n",
    "\n"
   ]
  },
  {
   "cell_type": "code",
   "execution_count": 583,
   "metadata": {},
   "outputs": [
    {
     "data": {
      "text/plain": [
       "Date                 object\n",
       "Sym                  object\n",
       "SP                  float64\n",
       "50-Day MA           float64\n",
       "200-Day MA          float64\n",
       "52W Range            object\n",
       "MC                   object\n",
       "P/B                 float64\n",
       "Vol                  object\n",
       "Avg Vol (3m)         object\n",
       "Avg Vol (10-day)     object\n",
       "Sh Out               object\n",
       "Float                object\n",
       "Insiders             object\n",
       "Institutions         object\n",
       "dtype: object"
      ]
     },
     "execution_count": 583,
     "metadata": {},
     "output_type": "execute_result"
    }
   ],
   "source": [
    "# Examine datatypes to understand what needs to be converted to numerical values\n",
    "\n",
    "df.dtypes\n",
    "\n"
   ]
  },
  {
   "cell_type": "code",
   "execution_count": 584,
   "metadata": {},
   "outputs": [],
   "source": [
    "# Subset DataFrame for ML model implementation\n",
    "# Reset index of Subset\n",
    "\n",
    "df2 = df[df['Sym'] == 'ccxi']\n",
    "df2.reset_index(inplace=True)\n",
    "\n"
   ]
  },
  {
   "cell_type": "code",
   "execution_count": 585,
   "metadata": {},
   "outputs": [
    {
     "name": "stderr",
     "output_type": "stream",
     "text": [
      "/Users/garrettwankel/opt/anaconda3/lib/python3.7/site-packages/ipykernel_launcher.py:4: SettingWithCopyWarning: \n",
      "A value is trying to be set on a copy of a slice from a DataFrame.\n",
      "Try using .loc[row_indexer,col_indexer] = value instead\n",
      "\n",
      "See the caveats in the documentation: https://pandas.pydata.org/pandas-docs/stable/user_guide/indexing.html#returning-a-view-versus-a-copy\n",
      "  after removing the cwd from sys.path.\n",
      "/Users/garrettwankel/opt/anaconda3/lib/python3.7/site-packages/ipykernel_launcher.py:5: SettingWithCopyWarning: \n",
      "A value is trying to be set on a copy of a slice from a DataFrame.\n",
      "Try using .loc[row_indexer,col_indexer] = value instead\n",
      "\n",
      "See the caveats in the documentation: https://pandas.pydata.org/pandas-docs/stable/user_guide/indexing.html#returning-a-view-versus-a-copy\n",
      "  \"\"\"\n",
      "/Users/garrettwankel/opt/anaconda3/lib/python3.7/site-packages/pandas/core/frame.py:2963: SettingWithCopyWarning: \n",
      "A value is trying to be set on a copy of a slice from a DataFrame.\n",
      "Try using .loc[row_indexer,col_indexer] = value instead\n",
      "\n",
      "See the caveats in the documentation: https://pandas.pydata.org/pandas-docs/stable/user_guide/indexing.html#returning-a-view-versus-a-copy\n",
      "  self[k1] = value[k2]\n"
     ]
    },
    {
     "data": {
      "text/plain": [
       "index                 int64\n",
       "Date                 object\n",
       "Sym                  object\n",
       "SP                  float64\n",
       "50-Day MA           float64\n",
       "200-Day MA          float64\n",
       "52W Range            object\n",
       "MC                   object\n",
       "P/B                 float64\n",
       "Vol                 float64\n",
       "Avg Vol (3m)         object\n",
       "Avg Vol (10-day)    float64\n",
       "Sh Out               object\n",
       "Float                object\n",
       "Insiders             object\n",
       "Institutions         object\n",
       "dtype: object"
      ]
     },
     "execution_count": 585,
     "metadata": {},
     "output_type": "execute_result"
    }
   ],
   "source": [
    "# Remove non-numerical characters from featured columns for uniformity\n",
    "# Convert object .dtype to float\n",
    "\n",
    "df2['Vol'] = df2.replace(',', '', regex=True)\n",
    "df2['Avg Vol (10-day)'] = df2.replace('k', '', regex=True)\n",
    "df2[['Vol', 'Avg Vol (10-day)']] = df2[['Vol', 'Avg Vol (10-day)']].astype(float)\n",
    "df2.dtypes\n",
    "\n"
   ]
  },
  {
   "cell_type": "code",
   "execution_count": 586,
   "metadata": {},
   "outputs": [],
   "source": [
    "# Define features variables\n",
    "\n",
    "X = df2[['50-Day MA', '200-Day MA', 'Vol', 'Avg Vol (10-day)']]\n",
    "\n",
    "y = df2['SP']\n",
    "\n",
    "\n"
   ]
  },
  {
   "cell_type": "code",
   "execution_count": 587,
   "metadata": {},
   "outputs": [
    {
     "data": {
      "text/plain": [
       "((22,), (22, 4))"
      ]
     },
     "execution_count": 587,
     "metadata": {},
     "output_type": "execute_result"
    }
   ],
   "source": [
    "y.shape, X.shape"
   ]
  },
  {
   "cell_type": "code",
   "execution_count": 588,
   "metadata": {},
   "outputs": [],
   "source": [
    "# Split dataset into train & test, specify test_size\n",
    "X = np.array(X)\n",
    "X = preprocessing.scale(X)\n",
    "y = np.array(y)\n",
    "\n",
    "train_X, test_x, train_y, test_y = train_test_split(X, y, test_size=.25, random_state=10)\n",
    "\n"
   ]
  },
  {
   "cell_type": "code",
   "execution_count": 589,
   "metadata": {},
   "outputs": [
    {
     "name": "stdout",
     "output_type": "stream",
     "text": [
      "5 (0.910555555555554, 0.7112541726791667, 0.7112541726791667)\n",
      "50 (0.6149999999999984, 0.7029000000000458, 0.7029000000000458)\n",
      "500 (1.629999999999999, 0.6957833333333632, 0.6957833333333632)\n",
      "5000 (1.5683333333333327, 0.7771000000000304, 0.7771000000000304)\n"
     ]
    }
   ],
   "source": [
    "# Create function to determine best 'max_leaf_nodes' value for each model\n",
    "# Create for loop to iterate through list of possible values\n",
    "# Print 'max_leaf_nodes' with corresponding 'mean_absolute_error'\n",
    "\n",
    "def get_mae(max_leaf_nodes, train_X, test_x, train_y, test_y):\n",
    "    model = DecisionTreeRegressor(max_leaf_nodes=max_leaf_nodes)\n",
    "    model2 = RandomForestRegressor(max_leaf_nodes=max_leaf_nodes)\n",
    "    model3 = LinearRegression()\n",
    "    model.fit(train_X, train_y)\n",
    "    model2.fit(train_X, train_y)\n",
    "    model3.fit(train_X, train_y)\n",
    "    preds1 = model.predict(test_x)\n",
    "    preds2 = model2.predict(test_x)\n",
    "    preds3 = model2.predict(test_x)\n",
    "    mae1 = mean_absolute_error(preds1, test_y)\n",
    "    mae2 = mean_absolute_error(preds2, test_y)\n",
    "    mae3 = mean_absolute_error(preds3, test_y)\n",
    "    return(mae1, mae2, mae3)\n",
    "\n",
    "for max_leaf_nodes in [5, 50, 500, 5000]:\n",
    "    my_mae = get_mae(max_leaf_nodes, train_X, test_x, train_y, test_y)\n",
    "    print(max_leaf_nodes, my_mae)\n",
    "    \n",
    "    "
   ]
  },
  {
   "cell_type": "code",
   "execution_count": 590,
   "metadata": {},
   "outputs": [
    {
     "data": {
      "text/plain": [
       "LinearRegression()"
      ]
     },
     "execution_count": 590,
     "metadata": {},
     "output_type": "execute_result"
    }
   ],
   "source": [
    "# Create models for predicting\n",
    "# Train models\n",
    "\n",
    "model = DecisionTreeRegressor(max_leaf_nodes=50)\n",
    "model2 = RandomForestRegressor(max_leaf_nodes=50, n_estimators=200, criterion='mae')\n",
    "model3 = LinearRegression()\n",
    "model.fit(train_X,train_y)\n",
    "model2.fit(train_X, train_y)\n",
    "model3.fit(train_X, train_y)\n"
   ]
  },
  {
   "cell_type": "code",
   "execution_count": 591,
   "metadata": {},
   "outputs": [],
   "source": [
    "# Make predictions\n",
    "\n",
    "preds1 = model.predict(test_x)\n",
    "preds2 = model2.predict(test_x)\n",
    "preds3 = model3.predict(test_x)\n"
   ]
  },
  {
   "cell_type": "code",
   "execution_count": 592,
   "metadata": {},
   "outputs": [
    {
     "name": "stdout",
     "output_type": "stream",
     "text": [
      "0.7757533570767252\n",
      "0.83322420077244\n",
      "0.713827208427692\n"
     ]
    }
   ],
   "source": [
    "# Score each model to determine it's accuracy based on the returned coeeficient\n",
    "\n",
    "print(model.score(test_x, test_y))\n",
    "print(model2.score(test_x, test_y))\n",
    "print(model3.score(test_x, test_y))"
   ]
  },
  {
   "cell_type": "code",
   "execution_count": 593,
   "metadata": {},
   "outputs": [],
   "source": [
    "# Find the 'mean abosolute error' of each model\n",
    "# ** Helpful to determine how accurate model is **\n",
    "\n",
    "mae1 = mean_absolute_error(preds1, test_y)\n",
    "mae2 = mean_absolute_error(preds2, test_y)\n",
    "mae3 = mean_absolute_error(preds3, test_y)\n"
   ]
  },
  {
   "cell_type": "code",
   "execution_count": 594,
   "metadata": {},
   "outputs": [
    {
     "name": "stdout",
     "output_type": "stream",
     "text": [
      "0.9299999999999985\n",
      "0.7584250000000511\n",
      "1.0582202918613117\n"
     ]
    }
   ],
   "source": [
    "# Print 'mean aboslute error'\n",
    "\n",
    "print(mae1)\n",
    "print(mae2)\n",
    "print(mae3)\n"
   ]
  },
  {
   "cell_type": "code",
   "execution_count": 595,
   "metadata": {},
   "outputs": [
    {
     "data": {
      "text/plain": [
       "(array([51.31, 54.14, 53.66, 52.86, 54.6 , 48.07]),\n",
       " array([52.37, 52.2 , 52.99, 52.05, 54.19, 47.38]),\n",
       " array([51.7065 , 52.94605, 53.54875, 52.44595, 53.7027 , 49.6075 ]),\n",
       " array([52.10105903, 52.33042661, 53.78666702, 51.89896195, 53.48006344,\n",
       "        49.61104771]))"
      ]
     },
     "execution_count": 595,
     "metadata": {},
     "output_type": "execute_result"
    }
   ],
   "source": [
    "# Print True values and corresponding predictions to compare models\n",
    "\n",
    "test_y, preds1, preds2, preds3\n",
    "\n"
   ]
  },
  {
   "cell_type": "code",
   "execution_count": 596,
   "metadata": {},
   "outputs": [
    {
     "data": {
      "text/plain": [
       "array([ -0.15632369,  -7.84168138, -72.02915866,  -3.83086179,\n",
       "        -2.28001085])"
      ]
     },
     "execution_count": 596,
     "metadata": {},
     "output_type": "execute_result"
    }
   ],
   "source": [
    "score = cross_val_score(model, X, y, cv=5)\n",
    "score"
   ]
  },
  {
   "cell_type": "code",
   "execution_count": 597,
   "metadata": {},
   "outputs": [
    {
     "data": {
      "image/png": "[encoded data removed]",
      "text/plain": [
       "<Figure size 432x288 with 3 Axes>"
      ]
     },
     "metadata": {
      "needs_background": "light"
     },
     "output_type": "display_data"
    }
   ],
   "source": [
    "#plt.figure(figsize=(25,12))\n",
    "#plt.plot(test_y)\n",
    "#plt.plot(preds1)\n",
    "#plt.plot(preds2)\n",
    "#plt.plot(preds3)\n",
    "\n",
    "plot_margin = 0.25\n",
    "x = [1,2,3,4,5,6]\n",
    "fig, axs = plt.subplots(1,3)\n",
    "\n",
    "axs[0].plot(x, test_y, x, preds1, marker='o')\n",
    "plt.suptitle(t='Predictions vs. Test Data', x=0.8, fontsize=20, linespacing=10)\n",
    "axs[1].plot(x, test_y, x, preds2, marker='o')\n",
    "axs[2].plot(x, test_y, x, preds3, marker='o')\n",
    "fig.subplots_adjust(right=2)\n",
    "\n",
    "plt.show()\n",
    "\n",
    "red = mpatches.Patch(color='red', label='Test data')\n",
    "blue = mpatches.Patch(color='blue', label='DCR')\n",
    "green = mpatches.Patch(color='green', label='RF')\n",
    "orange = mpatches.Patch(color='orange', label='LR')\n",
    "#plt.legend(handles=[red, blue, green, orange])\n",
    "#plt.show()\n"
   ]
  },
  {
   "cell_type": "code",
   "execution_count": null,
   "metadata": {},
   "outputs": [],
   "source": []
  },
  {
   "cell_type": "code",
   "execution_count": null,
   "metadata": {},
   "outputs": [],
   "source": []
  }
 ],
 "metadata": {
  "kernelspec": {
   "display_name": "Python 3",
   "language": "python",
   "name": "python3"
  },
  "language_info": {
   "codemirror_mode": {
    "name": "ipython",
    "version": 3
   },
   "file_extension": ".py",
   "mimetype": "text/x-python",
   "name": "python",
   "nbconvert_exporter": "python",
   "pygments_lexer": "ipython3",
   "version": "3.7.6"
  }
 },
 "nbformat": 4,
 "nbformat_minor": 4
}
